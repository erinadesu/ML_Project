{
 "cells": [
  {
   "cell_type": "markdown",
   "id": "987a1d62",
   "metadata": {},
   "source": [
    "# Preprocessing\n",
    "\n",
    "## Numeric Columns\n",
    "\n",
    "### Outliers\n",
    "- detect with Isolation Forest than set to NaN\n",
    "\n",
    "### Missing values\n",
    "- *Simple Imputer* as a baseline\n",
    "- *Iterative Imputer* as a more robust alternative -> Cone: It takes significantly more time to run\n",
    "\n",
    "## Categorical Columns\n",
    "### Encoding techniques\n",
    "- *One Hot Encoding* for Linear reg, Ridge, Lasso, Support Vector reg -> generally high cardinality should be avoided \n",
    "- *Ordinal Encoding* for the other two, since they are tree-based\n",
    "### Missing values \n",
    "- OHE:\n",
    "    Encoded as all 0s in \n",
    "- OE: \n",
    "    1. Encoded as -1\n",
    "    2. Median imputation\n",
    "    3. Separate \"Unknown\" category\n",
    "- Both:\n",
    "    Model based encoding, using WEB-scraping\n"
   ]
  },
  {
   "cell_type": "markdown",
   "id": "61028718",
   "metadata": {},
   "source": [
    "# Feature engineering\n",
    "(after each section, correlation coefficients and conclusions should be added)\n",
    "! Question to ask ourselves: \n",
    "    Is the impact of the engineered features the same for each model?"
   ]
  },
  {
   "cell_type": "markdown",
   "id": "5f622172",
   "metadata": {},
   "source": [
    "## Numeric Columns\n",
    "### Algebraic expressions\n",
    "### PCA\n"
   ]
  },
  {
   "cell_type": "markdown",
   "id": "7cb26d40",
   "metadata": {},
   "source": [
    "## Categorical Columns\n",
    "- unite waranties types: No + Does not apply \n"
   ]
  },
  {
   "cell_type": "code",
   "execution_count": null,
   "id": "7342a023",
   "metadata": {},
   "outputs": [],
   "source": [
    "def warranty_func(df):\n",
    "    return df.replace({'warranty': {'No': 'Does not apply'}})"
   ]
  },
  {
   "cell_type": "markdown",
   "id": "3479a581",
   "metadata": {},
   "source": [
    "### Trasform to Numeric\n",
    "- encode *Engine capacity* and *Horsepower* as the lower bound of the given intervals\n"
   ]
  },
  {
   "cell_type": "code",
   "execution_count": null,
   "id": "8232e4a6",
   "metadata": {},
   "outputs": [],
   "source": [
    "def lower_bound_encoder(df):\n",
    "\n",
    "    df = df.copy()\n",
    "\n",
    "    def splitter(value):\n",
    "\n",
    "        if isinstance(value, (float, int)):\n",
    "            return value\n",
    "        # Handle missing or unknown\n",
    "        if pd.isnull(value) or value == \"Unknown\":\n",
    "            return np.nan\n",
    "        # Now, value is a string like \"1.6-2.0L\" or \"200+ HP\"\n",
    "        splitted = value[:-2].split('-')\n",
    "        element = splitted[0].strip()\n",
    "        if element.endswith('+'):\n",
    "            element = element[:-1]\n",
    "        try:\n",
    "            return float(element)\n",
    "        except Exception:\n",
    "            return np.nan\n",
    "\n",
    "    for col in [\"engine_capacity_cc\", \"horsepower\"]:\n",
    "        df[col] = df[col].apply(splitter)\n",
    "\n",
    "    return df"
   ]
  },
  {
   "cell_type": "markdown",
   "id": "2029fe9b",
   "metadata": {},
   "source": [
    "### Feature combinations\n",
    "- brand_model, barnd_body_type, model_fuel_type, model_trim, seller_type_warranty, interior_color_exterior_color -> these new categories might introduce multicolinearity when used without dropping the original columns"
   ]
  },
  {
   "cell_type": "code",
   "execution_count": null,
   "id": "0255316a",
   "metadata": {},
   "outputs": [],
   "source": [
    "def add_cat_combos_func(df):\n",
    "    df = df.copy()\n",
    "\n",
    "    def warranty_helper(element):\n",
    "        if element == 'Does not apply': return 'No'\n",
    "        else: return element\n",
    "\n",
    "    for col in ['brand', 'model', 'body_type', 'fuel_type', 'seller_type', 'trim']:\n",
    "        df[col] = df[col].replace('Other', np.nan)\n",
    "\n",
    "    df['warranty'] = df['warranty'].apply(warranty_helper)\n",
    "\n",
    "    df['brand_model'] = df['brand'].astype(str) + '_' + df['model'].astype(str)\n",
    "    df['brand_body_type'] = df['model'].astype(str) + '_' + df['body_type'].astype(str)\n",
    "    df['model_fuel_type'] = df['model'].astype(str) + '_' + df['fuel_type'].astype(str)\n",
    "    df['model_trim'] = df['model'].astype(str) + '_' + df['trim'].astype(str)\n",
    "    df['seller_type_warranty'] = df['seller_type'].astype(str) + '_' + df['warranty'].astype(str)\n",
    "    df['interior_color_exterior_color'] = df['interior_color'].astype(str) + '_' + df['exterior_color'].astype(str)\n",
    "\n",
    "#    return df.drop(['model', 'body_type', 'fuel_type', 'warranty', 'seller_type', 'exterior_color', 'interior_color'], axis=1)\n",
    "    return df"
   ]
  },
  {
   "cell_type": "markdown",
   "id": "51959907",
   "metadata": {},
   "source": [
    "## Reflections\n",
    "\n",
    "- when training models, drop seemingly not contributiong columns (e.g. transmission type)"
   ]
  },
  {
   "cell_type": "markdown",
   "id": "b8889d58",
   "metadata": {},
   "source": [
    "# Models\n",
    "## Simple Linear regression\n",
    "### Base-line model"
   ]
  },
  {
   "cell_type": "code",
   "execution_count": null,
   "id": "48a86f43",
   "metadata": {},
   "outputs": [
    {
     "name": "stdout",
     "output_type": "stream",
     "text": [
      "Cross-validation results:\n",
      "Train R^2 scores: [0.6528719  0.6597142  0.65714568 0.66187927 0.66109304]\n",
      "Test R^2 scores: [0.49300481 0.49130671 0.48719121 0.48555077 0.50481921]\n"
     ]
    }
   ],
   "source": [
    "num_processor = Pipeline([\n",
    "    (\"imputer\", SimpleImputer(strategy=\"mean\")),\n",
    "    (\"scaler\", StandardScaler())\n",
    "])\n",
    "\n",
    "cat_processor = Pipeline([\n",
    "    (\"imputer\", SimpleImputer(strategy=\"constant\", fill_value=\"missing\")),\n",
    "    (\"encoder\", OneHotEncoder(handle_unknown='ignore'))\n",
    "])\n",
    "\n",
    "preprocessor = ColumnTransformer([\n",
    "        ('num', num_processor, select_num_columns(X_train)),\n",
    "        ('cat', cat_processor, select_cat_columns(X_train))\n",
    "    ])\n",
    "\n",
    "pipeline = Pipeline([\n",
    "    (\"preprocessor\", preprocessor),\n",
    "    (\"model\", LinearRegression())\n",
    "])\n",
    "\n",
    "cv = cross_validate(pipeline, X_train, y_train, cv=5, scoring='r2', return_train_score=True)\n",
    "\n",
    "print(\"Cross-validation results:\")\n",
    "print(\"Train R^2 scores:\", cv['train_score'])\n",
    "print(\"Test R^2 scores:\", cv['test_score']) "
   ]
  },
  {
   "cell_type": "markdown",
   "id": "b94ec505",
   "metadata": {},
   "source": [
    "### Set outliers to NaN\n",
    "made an improvement, but introduced slight overfitting"
   ]
  },
  {
   "cell_type": "code",
   "execution_count": null,
   "id": "5083bd11",
   "metadata": {},
   "outputs": [
    {
     "name": "stderr",
     "output_type": "stream",
     "text": [
      "C:\\Users\\dir\\AppData\\Local\\Temp\\ipykernel_23872\\2729509221.py:12: FutureWarning: Setting an item of incompatible dtype is deprecated and will raise an error in a future version of pandas. Value 'nan' has dtype incompatible with bool, please explicitly cast to a compatible dtype first.\n",
      "  num_train.loc[num_train['outliers'], :] = np.nan\n",
      "C:\\Users\\dir\\AppData\\Local\\Temp\\ipykernel_23872\\2729509221.py:12: FutureWarning: Setting an item of incompatible dtype is deprecated and will raise an error in a future version of pandas. Value 'nan' has dtype incompatible with bool, please explicitly cast to a compatible dtype first.\n",
      "  num_train.loc[num_train['outliers'], :] = np.nan\n",
      "C:\\Users\\dir\\AppData\\Local\\Temp\\ipykernel_23872\\2729509221.py:12: FutureWarning: Setting an item of incompatible dtype is deprecated and will raise an error in a future version of pandas. Value 'nan' has dtype incompatible with bool, please explicitly cast to a compatible dtype first.\n",
      "  num_train.loc[num_train['outliers'], :] = np.nan\n",
      "C:\\Users\\dir\\AppData\\Local\\Temp\\ipykernel_23872\\2729509221.py:12: FutureWarning: Setting an item of incompatible dtype is deprecated and will raise an error in a future version of pandas. Value 'nan' has dtype incompatible with bool, please explicitly cast to a compatible dtype first.\n",
      "  num_train.loc[num_train['outliers'], :] = np.nan\n",
      "C:\\Users\\dir\\AppData\\Local\\Temp\\ipykernel_23872\\2729509221.py:12: FutureWarning: Setting an item of incompatible dtype is deprecated and will raise an error in a future version of pandas. Value 'nan' has dtype incompatible with bool, please explicitly cast to a compatible dtype first.\n",
      "  num_train.loc[num_train['outliers'], :] = np.nan\n",
      "C:\\Users\\dir\\AppData\\Local\\Temp\\ipykernel_23872\\2729509221.py:12: FutureWarning: Setting an item of incompatible dtype is deprecated and will raise an error in a future version of pandas. Value 'nan' has dtype incompatible with bool, please explicitly cast to a compatible dtype first.\n",
      "  num_train.loc[num_train['outliers'], :] = np.nan\n",
      "C:\\Users\\dir\\AppData\\Local\\Temp\\ipykernel_23872\\2729509221.py:12: FutureWarning: Setting an item of incompatible dtype is deprecated and will raise an error in a future version of pandas. Value 'nan' has dtype incompatible with bool, please explicitly cast to a compatible dtype first.\n",
      "  num_train.loc[num_train['outliers'], :] = np.nan\n",
      "C:\\Users\\dir\\AppData\\Local\\Temp\\ipykernel_23872\\2729509221.py:12: FutureWarning: Setting an item of incompatible dtype is deprecated and will raise an error in a future version of pandas. Value 'nan' has dtype incompatible with bool, please explicitly cast to a compatible dtype first.\n",
      "  num_train.loc[num_train['outliers'], :] = np.nan\n",
      "C:\\Users\\dir\\AppData\\Local\\Temp\\ipykernel_23872\\2729509221.py:12: FutureWarning: Setting an item of incompatible dtype is deprecated and will raise an error in a future version of pandas. Value 'nan' has dtype incompatible with bool, please explicitly cast to a compatible dtype first.\n",
      "  num_train.loc[num_train['outliers'], :] = np.nan\n",
      "C:\\Users\\dir\\AppData\\Local\\Temp\\ipykernel_23872\\2729509221.py:12: FutureWarning: Setting an item of incompatible dtype is deprecated and will raise an error in a future version of pandas. Value 'nan' has dtype incompatible with bool, please explicitly cast to a compatible dtype first.\n",
      "  num_train.loc[num_train['outliers'], :] = np.nan\n",
      "C:\\Users\\dir\\AppData\\Local\\Temp\\ipykernel_23872\\2729509221.py:12: FutureWarning: Setting an item of incompatible dtype is deprecated and will raise an error in a future version of pandas. Value 'nan' has dtype incompatible with bool, please explicitly cast to a compatible dtype first.\n",
      "  num_train.loc[num_train['outliers'], :] = np.nan\n",
      "C:\\Users\\dir\\AppData\\Local\\Temp\\ipykernel_23872\\2729509221.py:12: FutureWarning: Setting an item of incompatible dtype is deprecated and will raise an error in a future version of pandas. Value 'nan' has dtype incompatible with bool, please explicitly cast to a compatible dtype first.\n",
      "  num_train.loc[num_train['outliers'], :] = np.nan\n",
      "C:\\Users\\dir\\AppData\\Local\\Temp\\ipykernel_23872\\2729509221.py:12: FutureWarning: Setting an item of incompatible dtype is deprecated and will raise an error in a future version of pandas. Value 'nan' has dtype incompatible with bool, please explicitly cast to a compatible dtype first.\n",
      "  num_train.loc[num_train['outliers'], :] = np.nan\n",
      "C:\\Users\\dir\\AppData\\Local\\Temp\\ipykernel_23872\\2729509221.py:12: FutureWarning: Setting an item of incompatible dtype is deprecated and will raise an error in a future version of pandas. Value 'nan' has dtype incompatible with bool, please explicitly cast to a compatible dtype first.\n",
      "  num_train.loc[num_train['outliers'], :] = np.nan\n"
     ]
    },
    {
     "name": "stdout",
     "output_type": "stream",
     "text": [
      "Cross-validation results:\n",
      "Train R^2 scores: [0.66733497 0.67469692 0.67091371 0.67696587 0.67561404]\n",
      "Test R^2 scores: [0.51651607 0.50734882 0.51380647 0.50609148 0.52441071]\n"
     ]
    },
    {
     "name": "stderr",
     "output_type": "stream",
     "text": [
      "C:\\Users\\dir\\AppData\\Local\\Temp\\ipykernel_23872\\2729509221.py:12: FutureWarning: Setting an item of incompatible dtype is deprecated and will raise an error in a future version of pandas. Value 'nan' has dtype incompatible with bool, please explicitly cast to a compatible dtype first.\n",
      "  num_train.loc[num_train['outliers'], :] = np.nan\n"
     ]
    }
   ],
   "source": [
    "from sklearn.ensemble import IsolationForest\n",
    "\n",
    "def iforest_func(X): \n",
    "    num_train = X.select_dtypes(include=np.number)\n",
    "\n",
    "    # Temporarily impute missing values in numerical features before applying Isolation Forest\n",
    "    num_temp = SimpleImputer(strategy='median').fit_transform(num_train)  # median is robust to outliers\n",
    "\n",
    "    num_train['outliers'] = IsolationForest(random_state=42).fit_predict(num_temp) == -1\n",
    "\n",
    "   # set the outliers to NaN\n",
    "    num_train.loc[num_train['outliers'], :] = np.nan\n",
    "\n",
    "    # drop the outliers column\n",
    "    return num_train.drop(columns=['outliers'])\n",
    "\n",
    "\n",
    "iforest = FunctionTransformer(\n",
    "    iforest_func,\n",
    "    validate=False\n",
    ")\n",
    "\n",
    "num_processor = Pipeline([\n",
    "    (\"iforest\", iforest),  # detect outliers\n",
    "    (\"imputer\", SimpleImputer(strategy=\"mean\")),\n",
    "    (\"scaler\", StandardScaler())\n",
    "])\n",
    "\n",
    "preprocessor = ColumnTransformer([\n",
    "        ('num', num_processor, select_num_columns(X_train)),\n",
    "        ('cat', cat_processor, select_cat_columns(X_train))\n",
    "    ])\n",
    "\n",
    "pipeline = Pipeline([\n",
    "    (\"preprocessor\", preprocessor),\n",
    "    (\"model\", LinearRegression())\n",
    "])\n",
    "\n",
    "cv = cross_validate(pipeline, X_train, y_train, cv=5, scoring='r2', return_train_score=True)\n",
    "\n",
    "print(\"Cross-validation results:\")\n",
    "print(\"Train R^2 scores:\", cv['train_score'])\n",
    "print(\"Test R^2 scores:\", cv['test_score']) "
   ]
  },
  {
   "cell_type": "markdown",
   "id": "7a64b7ed",
   "metadata": {},
   "source": [
    "### Fill in NaN\n",
    "Made model's performance worth, because the potentially meaningful patterns were erased during filling in the missing values.\n",
    "! Possibly, tuning the parameters might increase the performance"
   ]
  },
  {
   "cell_type": "code",
   "execution_count": null,
   "id": "721a4b78",
   "metadata": {},
   "outputs": [
    {
     "name": "stdout",
     "output_type": "stream",
     "text": [
      "Cross-validation results:\n",
      "Train R^2 scores: [0.68168793 0.68882165 0.68446263 0.68664783 0.68911034]\n",
      "Test R^2 scores: [0.49449894 0.49135105 0.51597223 0.5148079  0.51407056]\n"
     ]
    }
   ],
   "source": [
    "num_processor = Pipeline([\n",
    "    (\"iforest\", iforest),  # detect outliers\n",
    "    (\"imputer\", IterativeImputer(estimator=RandomForestRegressor(n_estimators=10), max_iter=10, random_state=0)),\n",
    "    (\"scaler\", StandardScaler())\n",
    "])\n",
    "\n",
    "preprocessor = ColumnTransformer([\n",
    "        ('num', num_processor, select_num_columns(X_train)),\n",
    "        ('cat', cat_processor, select_cat_columns(X_train))\n",
    "    ])\n",
    "\n",
    "pipeline = Pipeline([\n",
    "    (\"preprocessor\", preprocessor),\n",
    "    (\"model\", LinearRegression())\n",
    "])\n",
    "\n",
    "cv = cross_validate(pipeline, X_train, y_train, cv=5, scoring='r2', return_train_score=True)\n",
    "\n",
    "print(\"Cross-validation results:\")\n",
    "print(\"Train R^2 scores:\", cv['train_score'])\n",
    "print(\"Test R^2 scores:\", cv['test_score']) "
   ]
  },
  {
   "cell_type": "markdown",
   "id": "63277ff9",
   "metadata": {},
   "source": [
    "## Ridge"
   ]
  },
  {
   "cell_type": "markdown",
   "id": "ae4732d7",
   "metadata": {},
   "source": [
    "## Lasso"
   ]
  },
  {
   "cell_type": "markdown",
   "id": "97df4fe6",
   "metadata": {},
   "source": [
    "## Elastic Net"
   ]
  },
  {
   "cell_type": "markdown",
   "id": "ed740583",
   "metadata": {},
   "source": [
    "## Random Forest Regressor"
   ]
  },
  {
   "cell_type": "markdown",
   "id": "3a94de6d",
   "metadata": {},
   "source": [
    "## Histogram-Based Gradient Boosting"
   ]
  },
  {
   "cell_type": "markdown",
   "id": "e4d2357e",
   "metadata": {},
   "source": [
    "## Support Vector Regression"
   ]
  }
 ],
 "metadata": {
  "language_info": {
   "name": "python"
  }
 },
 "nbformat": 4,
 "nbformat_minor": 5
}
